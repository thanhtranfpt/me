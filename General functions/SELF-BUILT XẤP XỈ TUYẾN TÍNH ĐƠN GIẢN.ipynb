{
 "cells": [
  {
   "cell_type": "code",
   "execution_count": 3,
   "id": "6999cd74",
   "metadata": {},
   "outputs": [],
   "source": [
    "# get x = [...], y = [...]\n",
    "\n",
    "f = open(r'K:\\TAI LIEU TAM THOI\\\\dt.txt','r')\n",
    "f = f.readlines()\n",
    "x = []\n",
    "y = []\n",
    "for k in f:\n",
    "    k = [float(x.strip()) for x in k.strip().split(' ')]\n",
    "    x.append(k[0])\n",
    "    y.append(k[1])"
   ]
  },
  {
   "cell_type": "code",
   "execution_count": 15,
   "id": "49feba25",
   "metadata": {},
   "outputs": [
    {
     "name": "stdout",
     "output_type": "stream",
     "text": [
      "y=0.5798249057331855*x+-0.36525078216091345\n"
     ]
    }
   ],
   "source": [
    "# approximate linear line:\n",
    "\n",
    "M = sum([2*(k**2) for k in x])\n",
    "N = 2*sum(x)\n",
    "V = sum([ 2*x[k]*y[k] for k in range(len(x)) ])\n",
    "P = sum(x)\n",
    "Q = sum(y)\n",
    "\n",
    "a_hat = (V - Q*N)/(M - P*N)\n",
    "b_hat = Q - a_hat * P\n",
    "\n",
    "linear_approximation_line = 'y='+str(a_hat)+'*x+'+str(b_hat)\n",
    "print(linear_approximation_line)\n",
    "\n",
    "# a_hat * M + b_hat * N = V\n",
    "# a_hat * P + b_hat = Q\n",
    "# a_hat * P*N + b_hat * N = Q*N\n",
    "# a_hat = (V - Q*N)/(M - P*N)\n",
    "# b_hat = Q - a_hat * P"
   ]
  },
  {
   "cell_type": "code",
   "execution_count": null,
   "id": "1fa680d3",
   "metadata": {},
   "outputs": [],
   "source": []
  }
 ],
 "metadata": {
  "kernelspec": {
   "display_name": "Python 3 (ipykernel)",
   "language": "python",
   "name": "python3"
  },
  "language_info": {
   "codemirror_mode": {
    "name": "ipython",
    "version": 3
   },
   "file_extension": ".py",
   "mimetype": "text/x-python",
   "name": "python",
   "nbconvert_exporter": "python",
   "pygments_lexer": "ipython3",
   "version": "3.9.7"
  }
 },
 "nbformat": 4,
 "nbformat_minor": 5
}
